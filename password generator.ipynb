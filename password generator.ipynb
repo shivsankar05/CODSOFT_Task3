{
 "cells": [
  {
   "cell_type": "markdown",
   "id": "35c7f9bb",
   "metadata": {},
   "source": [
    "Password Generator"
   ]
  },
  {
   "cell_type": "code",
   "execution_count": 1,
   "id": "d205ad20",
   "metadata": {},
   "outputs": [
    {
     "name": "stdout",
     "output_type": "stream",
     "text": [
      "Password Generator\n",
      "Generated Password: ANi/IR?YLJGQ\n"
     ]
    }
   ],
   "source": [
    "import random\n",
    "import string\n",
    "def main():\n",
    "  print(\"Password Generator\")\n",
    "  length = int(input(\"Enter the length of the password:\"))\n",
    "  use_lowercase = input(\"Include lowercase letters?\")\n",
    "  use_uppercase = input(\"Include uppercase letters?\")\n",
    "  use_digits = input(\"Include digits?\")\n",
    "  use_special_chars = input(\"Include special characters?\")\n",
    "  password = generate_password(length,use_lowercase,use_uppercase,use_digits,use_special_chars)\n",
    "  print(\"Generated Password:\",password)\n",
    "def generate_password(length,use_lowercase,use_uppercase,use_digits,use_special_chars):\n",
    "    characters = \"\"\n",
    "    if use_lowercase:\n",
    "      characters += string.ascii_lowercase\n",
    "    if use_uppercase:\n",
    "      characters += string.ascii_uppercase\n",
    "    if use_digits:\n",
    "      characters += string.digits\n",
    "    if use_special_chars:\n",
    "      characters += string.punctuation\n",
    "    if not characters:\n",
    "      print(\"Please select at least one character type.\")\n",
    "      return\n",
    "    password = ''.join(random.choice(characters) for _ in range(length))\n",
    "    return password\n",
    "if __name__ == \"__main__\":\n",
    "  main()\n",
    "\n",
    "\n",
    "\n",
    "\n"
   ]
  },
  {
   "cell_type": "code",
   "execution_count": null,
   "id": "05b5b606",
   "metadata": {},
   "outputs": [],
   "source": []
  }
 ],
 "metadata": {
  "kernelspec": {
   "display_name": "Python 3",
   "language": "python",
   "name": "python3"
  },
  "language_info": {
   "codemirror_mode": {
    "name": "ipython",
    "version": 3
   },
   "file_extension": ".py",
   "mimetype": "text/x-python",
   "name": "python",
   "nbconvert_exporter": "python",
   "pygments_lexer": "ipython3",
   "version": "3.12.4"
  }
 },
 "nbformat": 4,
 "nbformat_minor": 5
}
